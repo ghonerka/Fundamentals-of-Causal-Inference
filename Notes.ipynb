{
  "nbformat": 4,
  "nbformat_minor": 0,
  "metadata": {
    "colab": {
      "name": "Notes.ipynb",
      "provenance": [],
      "authorship_tag": "ABX9TyPl/rxEe2XnqoMR0ruTv7zS",
      "include_colab_link": true
    },
    "kernelspec": {
      "name": "python3",
      "display_name": "Python 3"
    },
    "language_info": {
      "name": "python"
    }
  },
  "cells": [
    {
      "cell_type": "markdown",
      "metadata": {
        "id": "view-in-github",
        "colab_type": "text"
      },
      "source": [
        "<a href=\"https://colab.research.google.com/github/ghonerka/Fundamentals-of-Causal-Inference/blob/main/Notes.ipynb\" target=\"_parent\"><img src=\"https://colab.research.google.com/assets/colab-badge.svg\" alt=\"Open In Colab\"/></a>"
      ]
    },
    {
      "cell_type": "markdown",
      "source": [
        "# Notes for Fundamentals of Causal Inference with R"
      ],
      "metadata": {
        "id": "lmFuTC_V5Lbj"
      }
    },
    {
      "cell_type": "markdown",
      "source": [
        "# 1 Introduction"
      ],
      "metadata": {
        "id": "IOzgZz_-5ZNy"
      }
    },
    {
      "cell_type": "markdown",
      "source": [
        "## 1.1 A Brief History"
      ],
      "metadata": {
        "id": "w2_Jm03y5jaK"
      }
    },
    {
      "cell_type": "markdown",
      "source": [
        "## 1.2 Data Examples"
      ],
      "metadata": {
        "id": "c9Ic8Mlh5qwQ"
      }
    },
    {
      "cell_type": "markdown",
      "source": [
        "**Definition:** A **true confounder** is a variable that influences the exposure and also influences the outcome along a directed path that does not include the exposure.  **Confounding** occurs when there is one or more true confounders.\n",
        "\n",
        "The *causal effect* of an exposure cannot be identified without either (a) adjustment involving true confounders, or, (b) adjustment involving other confounders.\n",
        "\n",
        "Data examples and key variables:\n",
        "* Mortality rates by country and age group\n",
        "* NCES College Admissions Data: Math SAT scores, selectivity, and gender\n",
        "* Alcohol Consumption:\n",
        "  * The What-If Study: Naltrexone treatment, reduction in drinking, HIV viral load\n",
        "  * The Double What-If Study: a simulated version with known causal mechanisms\n",
        "* General Social Survey\n",
        "* Cancer Clinical Trial: trial with sequential treatments illustrating time-dependent confounding\n"
      ],
      "metadata": {
        "id": "J74FNfJN5uPs"
      }
    },
    {
      "cell_type": "markdown",
      "source": [
        "# 2 Conditional Probability and Expectation"
      ],
      "metadata": {
        "id": "u88Rfbxp8Cog"
      }
    },
    {
      "cell_type": "markdown",
      "source": [
        "## 2.1 Conditional Probability"
      ],
      "metadata": {
        "id": "N7-x41sj8JR3"
      }
    },
    {
      "cell_type": "markdown",
      "source": [
        "Conditional independence does not imply marginal independence or vice versa.  E.g. in the mortality rate example, $T$, $H$, and $Y$ are indicators for living in the US (vs in China), being 65+ years old (vs < 65), and for dying in the year 2019 (vs being alive at the end of the year) respectively.  It may happen that $P(Y = 1 | T = 0, H) = P(Y = 1 | T = 1, H)$, i.e. the mortality rate in the US and China is the same within each age group so that $Y$ and $T$ are *conditionally independent* given $H$.  However, if the proportion of elderly citizens is different in the two countries, $Y$ and $T$ may not be *marginally independent*.  This is apparent from the *law of total probability*:\n",
        "\\begin{align} \n",
        "P(Y = 1 | T = t) &= \\sum_h P(Y = 1, H = h| T = t) \\\\\n",
        "&= \\sum_h P(Y = 1 | T = t, H = h) ⋅ P(H = h | T = t)\n",
        "\\end{align}"
      ],
      "metadata": {
        "id": "tiOxuH398VM4"
      }
    }
  ]
}