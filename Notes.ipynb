{
  "nbformat": 4,
  "nbformat_minor": 0,
  "metadata": {
    "colab": {
      "name": "Notes.ipynb",
      "provenance": [],
      "authorship_tag": "ABX9TyOGTo1KhE6rHgRO6c0daSDR",
      "include_colab_link": true
    },
    "kernelspec": {
      "name": "python3",
      "display_name": "Python 3"
    },
    "language_info": {
      "name": "python"
    }
  },
  "cells": [
    {
      "cell_type": "markdown",
      "metadata": {
        "id": "view-in-github",
        "colab_type": "text"
      },
      "source": [
        "<a href=\"https://colab.research.google.com/github/ghonerka/Fundamentals-of-Causal-Inference/blob/main/Notes.ipynb\" target=\"_parent\"><img src=\"https://colab.research.google.com/assets/colab-badge.svg\" alt=\"Open In Colab\"/></a>"
      ]
    },
    {
      "cell_type": "markdown",
      "source": [
        "# Notes for Fundamentals of Causal Inference with R"
      ],
      "metadata": {
        "id": "lmFuTC_V5Lbj"
      }
    },
    {
      "cell_type": "markdown",
      "source": [
        "# 1 Introduction"
      ],
      "metadata": {
        "id": "IOzgZz_-5ZNy"
      }
    },
    {
      "cell_type": "markdown",
      "source": [
        "## 1.1 A Brief History"
      ],
      "metadata": {
        "id": "w2_Jm03y5jaK"
      }
    },
    {
      "cell_type": "markdown",
      "source": [
        "## 1.2 Data Examples"
      ],
      "metadata": {
        "id": "c9Ic8Mlh5qwQ"
      }
    },
    {
      "cell_type": "markdown",
      "source": [
        "**Definition:** A **true confounder** is a variable that influences the exposure and also influences the outcome along a directed path that does not include the exposure.  **Confounding** occurs when there is one or more true confounders.\n",
        "\n",
        "The *causal effect* of an exposure cannot be identified without either (a) adjustment involving true confounders, or, (b) adjustment involving other confounders.\n",
        "\n",
        "Data examples and key variables:\n",
        "* Mortality rates by country and age group\n",
        "* NCES College Admissions Data: Math SAT scores, selectivity, and gender\n",
        "* Alcohol Consumption:\n",
        "  * The What-If Study: Naltrexone treatment, reduction in drinking, HIV viral load\n",
        "  * The Double What-If Study: a simulated version with known causal mechanisms\n",
        "* General Social Survey\n",
        "* Cancer Clinical Trial: trial with sequential treatments illustrating time-dependent confounding\n"
      ],
      "metadata": {
        "id": "J74FNfJN5uPs"
      }
    },
    {
      "cell_type": "markdown",
      "source": [
        "# 2 Conditional Probability and Expectation"
      ],
      "metadata": {
        "id": "u88Rfbxp8Cog"
      }
    },
    {
      "cell_type": "markdown",
      "source": [
        "## 2.1 Conditional Probability"
      ],
      "metadata": {
        "id": "N7-x41sj8JR3"
      }
    },
    {
      "cell_type": "markdown",
      "source": [
        "Conditional independence does not imply marginal independence or vice versa.  E.g. in the mortality rate example, $T$, $H$, and $Y$ are indicators for living in the US (vs in China), being 65+ years old (vs < 65), and for dying in the year 2019 (vs being alive at the end of the year) respectively.  It may happen that $P(Y = 1 | T = 0, H) = P(Y = 1 | T = 1, H)$, i.e. the mortality rate in the US and China is the same within each age group so that $Y$ and $T$ are *conditionally independent* given $H$.  However, if the proportion of elderly citizens is different in the two countries, $Y$ and $T$ may not be *marginally independent*.  This is apparent from the *law of total probability*:\n",
        "\\begin{align} \n",
        "P(Y = 1 | T = t) &= \\sum_h P(Y = 1, H = h| T = t) \\\\\n",
        "&= \\sum_h P(Y = 1 | T = t, H = h) ⋅ P(H = h | T = t)\n",
        "\\end{align}"
      ],
      "metadata": {
        "id": "tiOxuH398VM4"
      }
    },
    {
      "cell_type": "markdown",
      "source": [
        "## 2.2 Conditional Expectation and the Law of Total Expectation"
      ],
      "metadata": {
        "id": "KyJ71MUpJwYr"
      }
    },
    {
      "cell_type": "markdown",
      "source": [
        "**Definitions:** The **conditional expectation** quantifies what we expect to happen conditional on certain events having happened.  For a discrete random variable $Y$ and a random variable $T$ it is defined as\n",
        "$$E(Y|T) = \\sum_y y P(Y = y|T)$$\n",
        "For continuous $Y$ , the sum is replaced with an integral and $P(Y = y|T)$ is\n",
        "a probability density rather than a probability mass function.  \n",
        "\n",
        "Conditional expectation is a **linear operator**:\n",
        "$$E(a(T)Y_1 + b(T) Y_2 |T) = a(T) E(Y_1 | T) + b(T) E(Y_2 | T)$$\n",
        "where $a$ and $b$ are arbitrary functions.  \n",
        "\n",
        "Analogous to the law of total probability is the **law of total expectation** or the **double expectation theorem**\n",
        "\\begin{align}\n",
        "  E(Y|T) &= E_{H|T}(E(Y|H, T)) \\\\\n",
        "  &= \\sum_h \\left\\{ \\sum_y y P(Y = y | H = h, T) \\right\\} P(H = h|T) \\\\\n",
        "\\end{align}\n",
        "These laws also apply without conditioning on $T$:\n",
        "$$E(Y) = E_H(E(Y|H))$$\n",
        "\n",
        "$Y$ is said to be **mean independent of $T$** if\n",
        "$$E(Y|T) = E(Y)$$\n",
        "and **conditionally mean independent of $T$ given $H$** if\n",
        "$$E(Y|H, T) = E(Y|H).$$\n",
        "For binary datasets, these notions are identical to independence and conditional independence.\n",
        "\n",
        "$Y$ is said to be **uncorrelated with $T$** if\n",
        "$$E(YT) = E(Y)E(T)$$\n",
        "and **conditionally uncorrelated with $T$ given $H$** if\n",
        "$$E(YT|H, T) = E(Y|H) E(T|H).$$\n",
        "For binary datasets, these notions are identical to independence and conditional independence.  Conditional mean independence implies conditional uncorrelation, but the converse is false.\n",
        "\n",
        "A statistical model for a conditional expectation is called a **regression model**.  Models may be *saturated* (sometimes called *nonparametric*) or *unsaturated* (*parametric*).  A saturated model is one that does not make any assumptions beyond basic sampling assumptions such as variable type.  For example, for a binary dataset, the model\n",
        "$$E(Y|H, T) = \\beta_0 + \\beta_1 H + \\beta_2 T + \\beta_3 H \\cdot T$$\n",
        "is saturated, because it relates the four proportions represented by $E(Y|H = h, T = t)$ where $h, t \\in \\{0, 1\\}$ to the four parameters $\\beta_0, \\beta_1, \\beta_2, \\beta_3$ without any restrictions on the proportions.  In contrast, \n",
        "$$E(Y|H, T) = \\beta_0 + \\beta_1 H + \\beta_2 T$$\n",
        "is an unsaturated model: since \n",
        "$$\\beta_3 = E(Y|H = 1, T = 1) - E(Y|H = 1, T = 0) - \\left \\{ E(Y|H = 0, T = 1) - E(Y|H = 0, T = 0) \\right \\}$$, this model forces the relationship $\\beta_3 = 0$, i.e. \n",
        "$$E(Y|H = 1, T = 1) - E(Y|H = 1, T = 0) = E(Y|H = 0, T = 1) - E(Y|H = 0, T = 0).$$ \n",
        "\n"
      ],
      "metadata": {
        "id": "B9xTQEA3m6_g"
      }
    },
    {
      "cell_type": "markdown",
      "source": [
        "## 2.3 Expectation"
      ],
      "metadata": {
        "id": "ZO_Vyg2SzAv2"
      }
    }
  ]
}